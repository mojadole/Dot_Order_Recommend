{
 "cells": [
  {
   "cell_type": "code",
   "execution_count": 12,
   "metadata": {},
   "outputs": [],
   "source": [
    "import pandas as pd\n",
    "\n",
    "df = pd.read_csv('food_list.csv',encoding='cp949')\n",
    "data = df[['구분', '음식명']] # 필요한 데이터만 가져오기"
   ]
  },
  {
   "cell_type": "code",
   "execution_count": 26,
   "metadata": {},
   "outputs": [
    {
     "data": {
      "text/plain": [
       "{'어류': 24,\n",
       " '구이': 5,\n",
       " '젓갈': 30,\n",
       " '조림': 31,\n",
       " '채소류': 35,\n",
       " '나물': 9,\n",
       " '볶음': 17,\n",
       " '양념': 23,\n",
       " '과일류': 4,\n",
       " '서류': 19,\n",
       " '김치': 8,\n",
       " '한과': 40,\n",
       " '마른찬': 13,\n",
       " '갑각류': 0,\n",
       " '생채': 18,\n",
       " '음청류': 27,\n",
       " '고명': 2,\n",
       " '장아찌': 28,\n",
       " '육류': 26,\n",
       " '전골': 29,\n",
       " '청주': 36,\n",
       " '패류': 38,\n",
       " '해조류': 41,\n",
       " '만두': 14,\n",
       " '찌개': 34,\n",
       " '곡류': 3,\n",
       " '연체류': 25,\n",
       " '기타': 7,\n",
       " '견과류': 1,\n",
       " '편육': 39,\n",
       " '두부': 11,\n",
       " '떡국': 12,\n",
       " '숙채': 21,\n",
       " '두류': 10,\n",
       " '증류주': 33,\n",
       " '버섯류': 16,\n",
       " '수제비': 20,\n",
       " '순대': 22,\n",
       " '튀김': 37,\n",
       " '국수': 6,\n",
       " '족편': 32,\n",
       " '무침': 15}"
      ]
     },
     "execution_count": 26,
     "metadata": {},
     "output_type": "execute_result"
    }
   ],
   "source": [
    "from sklearn.feature_extraction.text import CountVectorizer\n",
    "\n",
    "cv = CountVectorizer(ngram_range=(1,1)) \n",
    "cv_category = cv.fit_transform(data['구분'])\n",
    "cv.vocabulary_ # 구분 -> 숫자"
   ]
  },
  {
   "cell_type": "code",
   "execution_count": 14,
   "metadata": {},
   "outputs": [
    {
     "name": "stdout",
     "output_type": "stream",
     "text": [
      "[[750 246 255 ... 496 495   0]\n",
      " [750 246 255 ... 496 495   0]\n",
      " [750 246 255 ... 496 495   0]\n",
      " ...\n",
      " [750 246 255 ... 496 495   0]\n",
      " [750 246 255 ... 496 495   0]\n",
      " [750 246 255 ... 496 495   0]]\n"
     ]
    },
    {
     "data": {
      "text/plain": [
       "(751, 751)"
      ]
     },
     "execution_count": 14,
     "metadata": {},
     "output_type": "execute_result"
    }
   ],
   "source": [
    "from sklearn.metrics.pairwise import cosine_similarity\n",
    "similarity_category = cosine_similarity(cv_category, cv_category).argsort()[:,::-1]\n",
    "print(similarity_category)\n",
    "similarity_category.shape"
   ]
  },
  {
   "cell_type": "code",
   "execution_count": 18,
   "metadata": {},
   "outputs": [],
   "source": [
    "def recommend_menu(df, menu_name, top=10):\n",
    "\ttarget_menu_idx = df[df['음식명'] == menu_name].index.values\n",
    "\n",
    "\tsim_idx = similarity_category[target_menu_idx, :top].reshape(-1)\n",
    "\tsim_idx = sim_idx[sim_idx != target_menu_idx]\n",
    "\n",
    "\tresult = df.iloc[sim_idx]\n",
    "\treturn result"
   ]
  },
  {
   "cell_type": "code",
   "execution_count": 25,
   "metadata": {},
   "outputs": [
    {
     "data": {
      "text/html": [
       "<div>\n",
       "<style scoped>\n",
       "    .dataframe tbody tr th:only-of-type {\n",
       "        vertical-align: middle;\n",
       "    }\n",
       "\n",
       "    .dataframe tbody tr th {\n",
       "        vertical-align: top;\n",
       "    }\n",
       "\n",
       "    .dataframe thead th {\n",
       "        text-align: right;\n",
       "    }\n",
       "</style>\n",
       "<table border=\"1\" class=\"dataframe\">\n",
       "  <thead>\n",
       "    <tr style=\"text-align: right;\">\n",
       "      <th></th>\n",
       "      <th>구분</th>\n",
       "      <th>음식명</th>\n",
       "    </tr>\n",
       "  </thead>\n",
       "  <tbody>\n",
       "    <tr>\n",
       "      <th>52</th>\n",
       "      <td>구이</td>\n",
       "      <td>고등어(소금)구이</td>\n",
       "    </tr>\n",
       "    <tr>\n",
       "      <th>410</th>\n",
       "      <td>구이</td>\n",
       "      <td>쇠고기소금구이</td>\n",
       "    </tr>\n",
       "    <tr>\n",
       "      <th>341</th>\n",
       "      <td>구이</td>\n",
       "      <td>북어구이</td>\n",
       "    </tr>\n",
       "    <tr>\n",
       "      <th>603</th>\n",
       "      <td>구이</td>\n",
       "      <td>조기구이</td>\n",
       "    </tr>\n",
       "    <tr>\n",
       "      <th>523</th>\n",
       "      <td>구이</td>\n",
       "      <td>옥돔구이</td>\n",
       "    </tr>\n",
       "    <tr>\n",
       "      <th>166</th>\n",
       "      <td>구이</td>\n",
       "      <td>대합구이</td>\n",
       "    </tr>\n",
       "    <tr>\n",
       "      <th>125</th>\n",
       "      <td>구이</td>\n",
       "      <td>꽁치구이</td>\n",
       "    </tr>\n",
       "    <tr>\n",
       "      <th>293</th>\n",
       "      <td>구이</td>\n",
       "      <td>민어구이</td>\n",
       "    </tr>\n",
       "    <tr>\n",
       "      <th>580</th>\n",
       "      <td>구이</td>\n",
       "      <td>장어구이</td>\n",
       "    </tr>\n",
       "    <tr>\n",
       "      <th>614</th>\n",
       "      <td>구이</td>\n",
       "      <td>주물럭구이</td>\n",
       "    </tr>\n",
       "  </tbody>\n",
       "</table>\n",
       "</div>"
      ],
      "text/plain": [
       "     구분        음식명\n",
       "52   구이  고등어(소금)구이\n",
       "410  구이    쇠고기소금구이\n",
       "341  구이       북어구이\n",
       "603  구이       조기구이\n",
       "523  구이       옥돔구이\n",
       "166  구이       대합구이\n",
       "125  구이       꽁치구이\n",
       "293  구이       민어구이\n",
       "580  구이       장어구이\n",
       "614  구이      주물럭구이"
      ]
     },
     "execution_count": 25,
     "metadata": {},
     "output_type": "execute_result"
    }
   ],
   "source": [
    "recommend_menu(data, menu_name='가자미구이')"
   ]
  }
 ],
 "metadata": {
  "kernelspec": {
   "display_name": "Python 3.9.10 64-bit",
   "language": "python",
   "name": "python3"
  },
  "language_info": {
   "codemirror_mode": {
    "name": "ipython",
    "version": 3
   },
   "file_extension": ".py",
   "mimetype": "text/x-python",
   "name": "python",
   "nbconvert_exporter": "python",
   "pygments_lexer": "ipython3",
   "version": "3.9.10"
  },
  "orig_nbformat": 4,
  "vscode": {
   "interpreter": {
    "hash": "b0fa6594d8f4cbf19f97940f81e996739fb7646882a419484c72d19e05852a7e"
   }
  }
 },
 "nbformat": 4,
 "nbformat_minor": 2
}
