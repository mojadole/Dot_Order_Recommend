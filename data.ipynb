{
 "cells": [
  {
   "cell_type": "code",
   "execution_count": 110,
   "metadata": {},
   "outputs": [
    {
     "name": "stderr",
     "output_type": "stream",
     "text": [
      "/var/folders/7y/c05dgdf51dl2hthqhmsb1pf80000gn/T/ipykernel_16508/3860020494.py:11: SettingWithCopyWarning: \n",
      "A value is trying to be set on a copy of a slice from a DataFrame\n",
      "\n",
      "See the caveats in the documentation: https://pandas.pydata.org/pandas-docs/stable/user_guide/indexing.html#returning-a-view-versus-a-copy\n",
      "  data.loc[i, \"구분\"] = data['구분'][i] + \"_\"\n",
      "/var/folders/7y/c05dgdf51dl2hthqhmsb1pf80000gn/T/ipykernel_16508/3860020494.py:8: SettingWithCopyWarning: \n",
      "A value is trying to be set on a copy of a slice from a DataFrame\n",
      "\n",
      "See the caveats in the documentation: https://pandas.pydata.org/pandas-docs/stable/user_guide/indexing.html#returning-a-view-versus-a-copy\n",
      "  data.loc[i, \"구분\"] = data['구분'][i].replace(',', '_')\n",
      "/var/folders/7y/c05dgdf51dl2hthqhmsb1pf80000gn/T/ipykernel_16508/3860020494.py:20: SettingWithCopyWarning: \n",
      "A value is trying to be set on a copy of a slice from a DataFrame\n",
      "\n",
      "See the caveats in the documentation: https://pandas.pydata.org/pandas-docs/stable/user_guide/indexing.html#returning-a-view-versus-a-copy\n",
      "  data.loc[i, \"음식명\"] = data['음식명'][i].replace(\"/\", '_')\n",
      "/var/folders/7y/c05dgdf51dl2hthqhmsb1pf80000gn/T/ipykernel_16508/3860020494.py:14: SettingWithCopyWarning: \n",
      "A value is trying to be set on a copy of a slice from a DataFrame\n",
      "\n",
      "See the caveats in the documentation: https://pandas.pydata.org/pandas-docs/stable/user_guide/indexing.html#returning-a-view-versus-a-copy\n",
      "  data.loc[i, \"음식명\"] = data['음식명'][i] + \"_\"\n",
      "/var/folders/7y/c05dgdf51dl2hthqhmsb1pf80000gn/T/ipykernel_16508/3860020494.py:17: SettingWithCopyWarning: \n",
      "A value is trying to be set on a copy of a slice from a DataFrame\n",
      "\n",
      "See the caveats in the documentation: https://pandas.pydata.org/pandas-docs/stable/user_guide/indexing.html#returning-a-view-versus-a-copy\n",
      "  data.loc[i, \"음식명\"] = data['음식명'][i].replace(\" / \", '_')\n"
     ]
    }
   ],
   "source": [
    "import pandas as pd\n",
    "\n",
    "df = pd.read_csv('food_list.csv',encoding='cp949')\n",
    "data = df[['구분', '음식명']] # 필요한 데이터만 가져오기\n",
    "\n",
    "for i in range (len(data)): # ,가 포함되거나 한 글자인 카테고리명 변경 / 문자가 있거나 한 글자인 음식명 변경\n",
    "\tif (',' in data['구분'][i]):\n",
    "\t\tdata.loc[i, \"구분\"] = data['구분'][i].replace(',', '_')\n",
    "\n",
    "\tif (len(data['구분'][i]) == 1):\n",
    "\t\tdata.loc[i, \"구분\"] = data['구분'][i] + \"_\"\n",
    "\n",
    "\tif (len(data['음식명'][i]) == 1):\n",
    "\t\tdata.loc[i, \"음식명\"] = data['음식명'][i] + \"_\"\n",
    "\n",
    "\tif (\" / \" in data['음식명'][i]):\n",
    "\t\tdata.loc[i, \"음식명\"] = data['음식명'][i].replace(\" / \", '_')\n",
    "\t\n",
    "\tif (\"/\" in data['음식명'][i]):\n",
    "\t\tdata.loc[i, \"음식명\"] = data['음식명'][i].replace(\"/\", '_')"
   ]
  },
  {
   "cell_type": "code",
   "execution_count": 111,
   "metadata": {},
   "outputs": [
    {
     "data": {
      "text/plain": [
       "{'면_': 19,\n",
       " '떡_': 15,\n",
       " '찜_': 48,\n",
       " '어류': 33,\n",
       " '구이': 6,\n",
       " '젓갈': 42,\n",
       " '조림': 43,\n",
       " '채소류': 49,\n",
       " '나물': 11,\n",
       " '선_': 27,\n",
       " '전_적': 39,\n",
       " '볶음': 24,\n",
       " '양념': 32,\n",
       " '회_': 57,\n",
       " '국_탕': 7,\n",
       " '과일류': 5,\n",
       " '서류': 26,\n",
       " '김치': 10,\n",
       " '밥_': 22,\n",
       " '죽_': 45,\n",
       " '한과': 55,\n",
       " '마른찬': 17,\n",
       " '갑각류': 0,\n",
       " '생채': 25,\n",
       " '음청류': 36,\n",
       " '고명': 2,\n",
       " '장아찌': 37,\n",
       " '육류': 35,\n",
       " '전골': 41,\n",
       " '청주': 50,\n",
       " '패류': 53,\n",
       " '해조류': 56,\n",
       " '만두': 18,\n",
       " '찌개': 47,\n",
       " '곡류': 3,\n",
       " '연체류': 34,\n",
       " '묵_': 21,\n",
       " '기타': 9,\n",
       " '쌈_': 31,\n",
       " '견과류': 1,\n",
       " '편육': 54,\n",
       " '두부': 14,\n",
       " '떡국': 16,\n",
       " '숙채': 29,\n",
       " '두류': 13,\n",
       " '곡류 견과류': 4,\n",
       " '증류주': 46,\n",
       " '버섯류': 23,\n",
       " '탕_': 52,\n",
       " '수제비': 28,\n",
       " '순대': 30,\n",
       " '나물 생채': 12,\n",
       " '전_적_튀김': 40,\n",
       " '초_': 51,\n",
       " '국수': 8,\n",
       " '족편': 44,\n",
       " '전_': 38,\n",
       " '무침': 20}"
      ]
     },
     "execution_count": 111,
     "metadata": {},
     "output_type": "execute_result"
    }
   ],
   "source": [
    "from sklearn.feature_extraction.text import CountVectorizer\n",
    "\n",
    "cv = CountVectorizer(ngram_range=(1,2)) \n",
    "cv_category = cv.fit_transform(data['구분'])\n",
    "cv.vocabulary_ # 카테고리별 인덱스 번호\n",
    "\n",
    "cv.vocabulary_"
   ]
  },
  {
   "cell_type": "code",
   "execution_count": 112,
   "metadata": {},
   "outputs": [
    {
     "name": "stdout",
     "output_type": "stream",
     "text": [
      "[[  0  80 709 ... 493 492 375]\n",
      " [414 421  26 ... 493 492   0]\n",
      " [619 413 257 ... 491 490   0]\n",
      " ...\n",
      " [750 113  32 ... 488 487   0]\n",
      " [414 421  26 ... 493 492   0]\n",
      " [750 113  32 ... 488 487   0]]\n"
     ]
    },
    {
     "data": {
      "text/plain": [
       "(751, 751)"
      ]
     },
     "execution_count": 112,
     "metadata": {},
     "output_type": "execute_result"
    }
   ],
   "source": [
    "from sklearn.metrics.pairwise import cosine_similarity\n",
    "similarity_category = cosine_similarity(cv_category, cv_category)\n",
    "sim_category = similarity_category.argsort()[:,::-1]\n",
    "print(sim_category)\n",
    "sim_category.shape"
   ]
  },
  {
   "cell_type": "code",
   "execution_count": 113,
   "metadata": {},
   "outputs": [
    {
     "name": "stdout",
     "output_type": "stream",
     "text": [
      "[[  0 246 255 ... 496 495 375]\n",
      " [  1 750 246 ... 496 495   0]\n",
      " [  2 750 246 ... 496 495   0]\n",
      " ...\n",
      " [748 750 246 ... 495 494   0]\n",
      " [749 246 255 ... 496 495   0]\n",
      " [750 246 255 ... 496 495   0]]\n"
     ]
    },
    {
     "data": {
      "text/plain": [
       "(751, 751)"
      ]
     },
     "execution_count": 113,
     "metadata": {},
     "output_type": "execute_result"
    }
   ],
   "source": [
    "cv = CountVectorizer(ngram_range=(1,2)) \n",
    "cv_menuname = cv.fit_transform(data['음식명'])\n",
    "similarity_menuname = cosine_similarity(cv_menuname, cv_menuname)\n",
    "sim_menuname = similarity_menuname.argsort()[:,::-1]\n",
    "print(sim_menuname)\n",
    "sim_menuname.shape"
   ]
  },
  {
   "cell_type": "code",
   "execution_count": 114,
   "metadata": {},
   "outputs": [
    {
     "name": "stdout",
     "output_type": "stream",
     "text": [
      "[[  0  80 709 ... 493 492 375]\n",
      " [  1 414 314 ... 493 492   0]\n",
      " [  2 619 657 ... 491 490   0]\n",
      " ...\n",
      " [748 750 616 ... 488 487   0]\n",
      " [749 414 314 ... 493 492   0]\n",
      " [750 113  32 ... 488 487   0]]\n"
     ]
    }
   ],
   "source": [
    "cate_menu_co = (\n",
    "\t+ similarity_category * 0.8\n",
    "\t+ similarity_menuname * 0.2\n",
    ")\n",
    "\n",
    "cate_menu_co_idx = cate_menu_co.argsort()[:,::-1]\n",
    "print(cate_menu_co_idx)"
   ]
  },
  {
   "cell_type": "code",
   "execution_count": 115,
   "metadata": {},
   "outputs": [],
   "source": [
    "import numpy as np\n",
    "\n",
    "def recommend_menu(df, sorted_idx, menu_name, top=15):\n",
    "\n",
    "\t# 입력과 일치하는 메뉴명이 있는 경우\n",
    "\tif (True in (df['음식명'] == menu_name).values):\n",
    "\t\ttarget_menu_idx = df[df['음식명'] == menu_name].index.values\n",
    "\n",
    "\t\tsim_idx = sorted_idx[target_menu_idx, :top].reshape(-1)\n",
    "\n",
    "\t\tresult = df.iloc[sim_idx]\n",
    "\t\treturn result\n",
    "\n",
    "\t# 입력과 일치하는 메뉴명이 없는 경우\n",
    "\tlst = []\n",
    "\t\n",
    "\tfor i in range (len(data)):\n",
    "\t\tlst.append(menu_name in df['음식명'][i])\n",
    "\n",
    "\tresult = df.iloc[lst]\n",
    "\treturn result\n"
   ]
  },
  {
   "cell_type": "code",
   "execution_count": 116,
   "metadata": {},
   "outputs": [
    {
     "data": {
      "text/html": [
       "<div>\n",
       "<style scoped>\n",
       "    .dataframe tbody tr th:only-of-type {\n",
       "        vertical-align: middle;\n",
       "    }\n",
       "\n",
       "    .dataframe tbody tr th {\n",
       "        vertical-align: top;\n",
       "    }\n",
       "\n",
       "    .dataframe thead th {\n",
       "        text-align: right;\n",
       "    }\n",
       "</style>\n",
       "<table border=\"1\" class=\"dataframe\">\n",
       "  <thead>\n",
       "    <tr style=\"text-align: right;\">\n",
       "      <th></th>\n",
       "      <th>구분</th>\n",
       "      <th>음식명</th>\n",
       "    </tr>\n",
       "  </thead>\n",
       "  <tbody>\n",
       "    <tr>\n",
       "      <th>103</th>\n",
       "      <td>볶음</td>\n",
       "      <td>김치볶음</td>\n",
       "    </tr>\n",
       "    <tr>\n",
       "      <th>104</th>\n",
       "      <td>밥_</td>\n",
       "      <td>김치볶음밥</td>\n",
       "    </tr>\n",
       "    <tr>\n",
       "      <th>207</th>\n",
       "      <td>볶음</td>\n",
       "      <td>돼지고기김치볶음</td>\n",
       "    </tr>\n",
       "  </tbody>\n",
       "</table>\n",
       "</div>"
      ],
      "text/plain": [
       "     구분       음식명\n",
       "103  볶음      김치볶음\n",
       "104  밥_     김치볶음밥\n",
       "207  볶음  돼지고기김치볶음"
      ]
     },
     "execution_count": 116,
     "metadata": {},
     "output_type": "execute_result"
    }
   ],
   "source": [
    "menu_name = \"김치볶\" # 입력\n",
    "\n",
    "if (len(menu_name) == 1):\n",
    "\tmenu_name += \"_\"\n",
    "\n",
    "recommend_menu(data, cate_menu_co_idx, menu_name)"
   ]
  }
 ],
 "metadata": {
  "kernelspec": {
   "display_name": "Python 3.9.10 64-bit",
   "language": "python",
   "name": "python3"
  },
  "language_info": {
   "codemirror_mode": {
    "name": "ipython",
    "version": 3
   },
   "file_extension": ".py",
   "mimetype": "text/x-python",
   "name": "python",
   "nbconvert_exporter": "python",
   "pygments_lexer": "ipython3",
   "version": "3.9.10"
  },
  "orig_nbformat": 4,
  "vscode": {
   "interpreter": {
    "hash": "b0fa6594d8f4cbf19f97940f81e996739fb7646882a419484c72d19e05852a7e"
   }
  }
 },
 "nbformat": 4,
 "nbformat_minor": 2
}
