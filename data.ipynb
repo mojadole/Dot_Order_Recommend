{
 "cells": [
  {
   "cell_type": "code",
   "execution_count": 400,
   "metadata": {},
   "outputs": [
    {
     "name": "stderr",
     "output_type": "stream",
     "text": [
      "/var/folders/7y/c05dgdf51dl2hthqhmsb1pf80000gn/T/ipykernel_44814/3088158830.py:6: FutureWarning: The frame.append method is deprecated and will be removed from pandas in a future version. Use pandas.concat instead.\n",
      "  df = df.append(data_to_insert, ignore_index=True)\n",
      "/var/folders/7y/c05dgdf51dl2hthqhmsb1pf80000gn/T/ipykernel_44814/3088158830.py:15: SettingWithCopyWarning: \n",
      "A value is trying to be set on a copy of a slice from a DataFrame\n",
      "\n",
      "See the caveats in the documentation: https://pandas.pydata.org/pandas-docs/stable/user_guide/indexing.html#returning-a-view-versus-a-copy\n",
      "  data.loc[i, \"구분\"] = data['구분'][i] + \"_\"\n",
      "/var/folders/7y/c05dgdf51dl2hthqhmsb1pf80000gn/T/ipykernel_44814/3088158830.py:12: SettingWithCopyWarning: \n",
      "A value is trying to be set on a copy of a slice from a DataFrame\n",
      "\n",
      "See the caveats in the documentation: https://pandas.pydata.org/pandas-docs/stable/user_guide/indexing.html#returning-a-view-versus-a-copy\n",
      "  data.loc[i, \"구분\"] = data['구분'][i].replace(',', '_')\n",
      "/var/folders/7y/c05dgdf51dl2hthqhmsb1pf80000gn/T/ipykernel_44814/3088158830.py:24: SettingWithCopyWarning: \n",
      "A value is trying to be set on a copy of a slice from a DataFrame\n",
      "\n",
      "See the caveats in the documentation: https://pandas.pydata.org/pandas-docs/stable/user_guide/indexing.html#returning-a-view-versus-a-copy\n",
      "  data.loc[i, \"음식명\"] = data['음식명'][i].replace(\"/\", '_')\n",
      "/var/folders/7y/c05dgdf51dl2hthqhmsb1pf80000gn/T/ipykernel_44814/3088158830.py:18: SettingWithCopyWarning: \n",
      "A value is trying to be set on a copy of a slice from a DataFrame\n",
      "\n",
      "See the caveats in the documentation: https://pandas.pydata.org/pandas-docs/stable/user_guide/indexing.html#returning-a-view-versus-a-copy\n",
      "  data.loc[i, \"음식명\"] = data['음식명'][i] + \"_\"\n",
      "/var/folders/7y/c05dgdf51dl2hthqhmsb1pf80000gn/T/ipykernel_44814/3088158830.py:21: SettingWithCopyWarning: \n",
      "A value is trying to be set on a copy of a slice from a DataFrame\n",
      "\n",
      "See the caveats in the documentation: https://pandas.pydata.org/pandas-docs/stable/user_guide/indexing.html#returning-a-view-versus-a-copy\n",
      "  data.loc[i, \"음식명\"] = data['음식명'][i].replace(\" / \", '_')\n"
     ]
    }
   ],
   "source": [
    "import pandas as pd\n",
    "\n",
    "df = pd.read_csv('food_list.csv',encoding='cp949')\n",
    "\n",
    "data_to_insert = {'구분': '_', '음식명': '_'}\n",
    "df = df.append(data_to_insert, ignore_index=True)\n",
    "\n",
    "data = df[['구분', '음식명']] # 필요한 데이터만 가져오기\n",
    "\n",
    "for i in range (len(data)): # ,가 포함되거나 한 글자인 카테고리명 변경 / 문자가 있거나 한 글자인 음식명 변경\n",
    "\tif (',' in data['구분'][i]):\n",
    "\t\tdata.loc[i, \"구분\"] = data['구분'][i].replace(',', '_')\n",
    "\n",
    "\tif (len(data['구분'][i]) == 1):\n",
    "\t\tdata.loc[i, \"구분\"] = data['구분'][i] + \"_\"\n",
    "\n",
    "\tif (len(data['음식명'][i]) == 1):\n",
    "\t\tdata.loc[i, \"음식명\"] = data['음식명'][i] + \"_\"\n",
    "\n",
    "\tif (\" / \" in data['음식명'][i]):\n",
    "\t\tdata.loc[i, \"음식명\"] = data['음식명'][i].replace(\" / \", '_')\n",
    "\t\n",
    "\tif (\"/\" in data['음식명'][i]):\n",
    "\t\tdata.loc[i, \"음식명\"] = data['음식명'][i].replace(\"/\", '_')\n"
   ]
  },
  {
   "cell_type": "code",
   "execution_count": 401,
   "metadata": {},
   "outputs": [
    {
     "data": {
      "text/plain": [
       "{'면_': 20,\n",
       " '떡_': 16,\n",
       " '찜_': 49,\n",
       " '어류': 34,\n",
       " '구이': 7,\n",
       " '젓갈': 43,\n",
       " '조림': 44,\n",
       " '채소류': 50,\n",
       " '나물': 12,\n",
       " '선_': 28,\n",
       " '전_적': 40,\n",
       " '볶음': 25,\n",
       " '양념': 33,\n",
       " '회_': 58,\n",
       " '국_탕': 8,\n",
       " '과일류': 6,\n",
       " '서류': 27,\n",
       " '김치': 11,\n",
       " '밥_': 23,\n",
       " '죽_': 46,\n",
       " '한과': 56,\n",
       " '마른찬': 18,\n",
       " '갑각류': 1,\n",
       " '생채': 26,\n",
       " '음청류': 37,\n",
       " '고명': 3,\n",
       " '장아찌': 38,\n",
       " '육류': 36,\n",
       " '전골': 42,\n",
       " '청주': 51,\n",
       " '패류': 54,\n",
       " '해조류': 57,\n",
       " '만두': 19,\n",
       " '찌개': 48,\n",
       " '곡류': 4,\n",
       " '연체류': 35,\n",
       " '묵_': 22,\n",
       " '기타': 10,\n",
       " '쌈_': 32,\n",
       " '견과류': 2,\n",
       " '편육': 55,\n",
       " '두부': 15,\n",
       " '떡국': 17,\n",
       " '숙채': 30,\n",
       " '두류': 14,\n",
       " '곡류 견과류': 5,\n",
       " '증류주': 47,\n",
       " '버섯류': 24,\n",
       " '탕_': 53,\n",
       " '수제비': 29,\n",
       " '순대': 31,\n",
       " '나물 생채': 13,\n",
       " '전_적_튀김': 41,\n",
       " '초_': 52,\n",
       " '국수': 9,\n",
       " '족편': 45,\n",
       " '전_': 39,\n",
       " '무침': 21,\n",
       " '__': 0}"
      ]
     },
     "execution_count": 401,
     "metadata": {},
     "output_type": "execute_result"
    }
   ],
   "source": [
    "from sklearn.feature_extraction.text import CountVectorizer\n",
    "\n",
    "cv = CountVectorizer(ngram_range=(1,2)) \n",
    "cv_category = cv.fit_transform(data['구분']) \n",
    "cv.vocabulary_ # 카테고리별 인덱스 번호 \n",
    "\n",
    "cv.vocabulary_"
   ]
  },
  {
   "cell_type": "code",
   "execution_count": 402,
   "metadata": {},
   "outputs": [
    {
     "name": "stdout",
     "output_type": "stream",
     "text": [
      "[[  0  80 709 ... 493 492 375]\n",
      " [559 725  26 ... 493 492   0]\n",
      " [405 675 503 ... 492 491   0]\n",
      " ...\n",
      " [559 725  26 ... 493 492   0]\n",
      " [733  32 154 ... 489 488   0]\n",
      " [751 246 255 ... 497 496   0]]\n"
     ]
    },
    {
     "data": {
      "text/plain": [
       "(752, 752)"
      ]
     },
     "execution_count": 402,
     "metadata": {},
     "output_type": "execute_result"
    }
   ],
   "source": [
    "from sklearn.metrics.pairwise import cosine_similarity\n",
    "similarity_category = cosine_similarity(cv_category, cv_category)\n",
    "sim_category = similarity_category.argsort()[:,::-1]\n",
    "print(sim_category)\n",
    "sim_category.shape"
   ]
  },
  {
   "cell_type": "code",
   "execution_count": 403,
   "metadata": {},
   "outputs": [
    {
     "data": {
      "text/plain": [
       "(752, 752)"
      ]
     },
     "execution_count": 403,
     "metadata": {},
     "output_type": "execute_result"
    }
   ],
   "source": [
    "cv = CountVectorizer(ngram_range=(1,2)) \n",
    "cv_menuname = cv.fit_transform(data['음식명'])\n",
    "similarity_menuname = cosine_similarity(cv_menuname, cv_menuname)\n",
    "sim_menuname = similarity_menuname.argsort()[:,::-1]\n",
    "sim_menuname.shape"
   ]
  },
  {
   "cell_type": "code",
   "execution_count": 404,
   "metadata": {},
   "outputs": [],
   "source": [
    "cate_menu_co = (\n",
    "\t+ similarity_category * 0.8\n",
    "\t+ similarity_menuname * 0.2\n",
    ")\n",
    "\n",
    "cate_menu_co_idx = cate_menu_co.argsort()[:,::-1]"
   ]
  },
  {
   "cell_type": "code",
   "execution_count": 405,
   "metadata": {},
   "outputs": [],
   "source": [
    "def remove_in_list(menu_list):\n",
    "\tfor i in range (len(menu_list)):\n",
    "\t\tmenu_list[i] = menu_list[i].replace('_', '')\n",
    "\treturn menu_list"
   ]
  },
  {
   "cell_type": "code",
   "execution_count": 406,
   "metadata": {},
   "outputs": [],
   "source": [
    "import numpy as np\n",
    "\n",
    "def recommend_menu(df, sorted_idx, menu_name, top=15):\n",
    "\tlst = []\n",
    "\t\n",
    "\t# 유사도 계산해서 유사도순으로 추천\n",
    "\tfor i in range (len(data)):\n",
    "\t\tlst.append(menu_name in df['음식명'][i])\n",
    "\n",
    "\tresult = df.iloc[lst]\n",
    "\treturn result['음식명'].values ## 추천 메뉴 전송 필요\n"
   ]
  },
  {
   "cell_type": "code",
   "execution_count": 419,
   "metadata": {},
   "outputs": [
    {
     "name": "stdout",
     "output_type": "stream",
     "text": [
      "일치하는 메뉴가 없습니다. 추천 메뉴는 다음과 같습니다.\n",
      "['돼지갈비강정' '돼지갈비구이' '돼지갈비찜' '돼지고기' '돼지고기구이' '돼지고기김치볶음' '돼지고기볶음' '돼지고기편육'\n",
      " '돼지머리편육']\n"
     ]
    }
   ],
   "source": [
    "menu_name = \"돼지\" ## 입력\n",
    "\n",
    "lst = []\n",
    "\n",
    "if (len(menu_name) == 1):\n",
    "\tmenu_name += \"_\"\n",
    "\n",
    "if (True in (data['음식명'] == menu_name).values): # 입력과 일치하는 메뉴가 있는 경우\n",
    "\t\tprint(\"일치하는 메뉴가 있습니다.\")\n",
    "\t\tlst.append(menu_name)\n",
    "\t\t\n",
    "else : # 입력과 일치하는 메뉴명이 없는 경우\n",
    "\tlst = recommend_menu(data, cate_menu_co_idx, menu_name)\n",
    "\tif (len(lst) != 0):\n",
    "\t\tprint(\"일치하는 메뉴가 없습니다. 추천 메뉴는 다음과 같습니다.\")\n",
    "\n",
    "if (len(lst) == 0):\n",
    "\tprint(\"메뉴가 없습니다.\")\n",
    "else :\n",
    "\tlst = remove_in_list(lst)\n",
    "\tprint(lst) ## 주문 메뉴 전송 필요"
   ]
  }
 ],
 "metadata": {
  "kernelspec": {
   "display_name": "Python 3.9.10 64-bit",
   "language": "python",
   "name": "python3"
  },
  "language_info": {
   "codemirror_mode": {
    "name": "ipython",
    "version": 3
   },
   "file_extension": ".py",
   "mimetype": "text/x-python",
   "name": "python",
   "nbconvert_exporter": "python",
   "pygments_lexer": "ipython3",
   "version": "3.9.10"
  },
  "orig_nbformat": 4,
  "vscode": {
   "interpreter": {
    "hash": "b0fa6594d8f4cbf19f97940f81e996739fb7646882a419484c72d19e05852a7e"
   }
  }
 },
 "nbformat": 4,
 "nbformat_minor": 2
}
