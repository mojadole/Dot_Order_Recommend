{
 "cells": [
  {
   "cell_type": "code",
   "execution_count": null,
   "metadata": {},
   "outputs": [],
   "source": [
    "import pandas as pd\n",
    "\n",
    "df = pd.read_csv('food_list.csv',encoding='cp949')\n",
    "\n",
    "data_to_insert = {'구분': '_', '음식명': '_'}\n",
    "df = df.append(data_to_insert, ignore_index=True)\n",
    "\n",
    "data = df[['구분', '음식명']] # 필요한 데이터만 가져오기\n",
    "\n",
    "for i in range (len(data)): # ,가 포함되거나 한 글자인 카테고리명 변경 / 문자가 있거나 한 글자인 음식명 변경\n",
    "\tif (',' in data['구분'][i]):\n",
    "\t\tdata.loc[i, \"구분\"] = data['구분'][i].replace(',', '_')\n",
    "\n",
    "\tif (len(data['구분'][i]) == 1):\n",
    "\t\tdata.loc[i, \"구분\"] = data['구분'][i] + \"_\"\n",
    "\n",
    "\tif (len(data['음식명'][i]) == 1):\n",
    "\t\tdata.loc[i, \"음식명\"] = data['음식명'][i] + \"_\"\n",
    "\n",
    "\tif (\" / \" in data['음식명'][i]):\n",
    "\t\tdata.loc[i, \"음식명\"] = data['음식명'][i].replace(\" / \", '_')\n",
    "\t\n",
    "\tif (\"/\" in data['음식명'][i]):\n",
    "\t\tdata.loc[i, \"음식명\"] = data['음식명'][i].replace(\"/\", '_')"
   ]
  },
  {
   "cell_type": "code",
   "execution_count": null,
   "metadata": {},
   "outputs": [],
   "source": [
    "from sklearn.feature_extraction.text import CountVectorizer\n",
    "\n",
    "cv = CountVectorizer(ngram_range=(1,2)) \n",
    "cv_category = cv.fit_transform(data['구분']) \n",
    "cv.vocabulary_ # 카테고리별 인덱스 번호 \n",
    "\n",
    "cv.vocabulary_"
   ]
  },
  {
   "cell_type": "code",
   "execution_count": null,
   "metadata": {},
   "outputs": [],
   "source": [
    "from sklearn.metrics.pairwise import cosine_similarity\n",
    "similarity_category = cosine_similarity(cv_category, cv_category)\n",
    "sim_category = similarity_category.argsort()[:,::-1]\n",
    "print(sim_category)\n",
    "sim_category.shape"
   ]
  },
  {
   "cell_type": "code",
   "execution_count": null,
   "metadata": {},
   "outputs": [],
   "source": [
    "def recommend_sim_menu(data):\n",
    "\n",
    "\tcv = CountVectorizer(ngram_range=(1,2)) \n",
    "\tcv_menuname = cv.fit_transform(data['음식명'])\n",
    "\tsimilarity_menuname = cosine_similarity(cv_menuname, cv_menuname)\n",
    "\tsim_menuname = similarity_menuname.argsort()[:,::-1]\n",
    "\treturn (similarity_menuname)\n",
    "\tsim_menuname.shape"
   ]
  },
  {
   "cell_type": "code",
   "execution_count": null,
   "metadata": {},
   "outputs": [],
   "source": [
    "def recommend_sim(similarity_menuname):\n",
    "\n",
    "\tcate_menu_co = (\n",
    "\t\t#+ similarity_category * 0.8\n",
    "\t\t+ similarity_menuname #* 0.2\n",
    "\t)\n",
    "\n",
    "\tcate_menu_co_idx = cate_menu_co.argsort()[:,::-1]\n",
    "\treturn (cate_menu_co_idx)"
   ]
  },
  {
   "cell_type": "code",
   "execution_count": null,
   "metadata": {},
   "outputs": [],
   "source": [
    "def remove_in_list(menu_list):\n",
    "\tfor i in range (len(menu_list)):\n",
    "\t\tmenu_list[i] = menu_list[i].replace('_', '')\n",
    "\treturn menu_list"
   ]
  },
  {
   "cell_type": "code",
   "execution_count": null,
   "metadata": {},
   "outputs": [],
   "source": [
    "import numpy as np\n",
    "\n",
    "def recommend_menu(df, sorted_idx, menu_name, top=15):\n",
    "\tlst = []\n",
    "\t\n",
    "\t# 유사도 계산해서 유사도순으로 추천\n",
    "\n",
    "\tfor i in range (len(data)):\n",
    "\t\tlst.append(menu_name in df['음식명'][i])\n",
    "\n",
    "\tresult = df.iloc[lst]\n",
    "\treturn result['음식명'].values ## 추천 메뉴 전송 필요\n",
    "\n",
    "\n",
    "\t#target_menu_idx = df[df['음식명'] == menu_name].index.values\n",
    "\n",
    "\t#sim_idx = sorted_idx[target_menu_idx, :top].reshape(-1)\n",
    "\n",
    "\t#result = df.iloc[sim_idx]\n",
    "\t#return result\n"
   ]
  },
  {
   "cell_type": "code",
   "execution_count": null,
   "metadata": {},
   "outputs": [],
   "source": [
    "menu_name = \"김치볶\" ## 입력\n",
    "\n",
    "lst = []\n",
    "\n",
    "if (len(menu_name) == 1):\n",
    "\tmenu_name += \"_\"\n",
    "\n",
    "if (True in (data['음식명'] == menu_name).values): # 입력과 일치하는 메뉴가 있는 경우\n",
    "\t\tprint(\"잂치하는 메뉴가 있습니다.\")\n",
    "\t\tlst.append(menu_name)\n",
    "\t\t\n",
    "else : # 입력과 일치하는 메뉴명이 없는 경우\n",
    "\tlst = recommend_menu(data, cate_menu_co_idx, menu_name)\n",
    "\tif (len(lst) != 0):\n",
    "\t\tprint(\"일치하는 메뉴가 없습니다. 추천 메뉴는 다음과 같습니다.\")\n",
    "\n",
    "if (len(lst) == 0):\n",
    "\tprint(\"메뉴가 없습니다.\")\n",
    "else :\n",
    "\tlst = remove_in_list(lst)\n",
    "\tprint(lst) ## 주문 메뉴 전송 필요"
   ]
  },
  {
   "cell_type": "code",
   "execution_count": null,
   "metadata": {},
   "outputs": [],
   "source": [
    "import numpy as np\n",
    "\n",
    "def recommend_menu_(df, menu_name, top=15):\n",
    "\tlast = len(df) - 1\n",
    "\tdf.loc[last, \"음식명\"] = menu_name\n",
    "\n",
    "\tsimilarity_menuname = recommend_sim_menu(df)\n",
    "\tsorted_idx = recommend_sim(similarity_menuname)\n",
    "\t\n",
    "\tsim_idx = sorted_idx[[last], :top].reshape(-1)\n",
    "\n",
    "\tresult = df.iloc[sim_idx]\n",
    "\treturn result"
   ]
  },
  {
   "cell_type": "code",
   "execution_count": null,
   "metadata": {},
   "outputs": [],
   "source": [
    "menu_name = \"햄버거\"\n",
    "\n",
    "if (len(menu_name) == 1):\n",
    "\tmenu_name += \"_\"\n",
    "\n",
    "print(recommend_menu_(data, menu_name))"
   ]
  }
 ],
 "metadata": {
  "kernelspec": {
   "display_name": "Python 3",
   "language": "python",
   "name": "python3"
  },
  "language_info": {
   "name": "python",
   "version": "3.9.10"
  },
  "orig_nbformat": 4
 },
 "nbformat": 4,
 "nbformat_minor": 2
}
